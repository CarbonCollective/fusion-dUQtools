{
 "cells": [
  {
   "cell_type": "code",
   "execution_count": null,
   "metadata": {},
   "outputs": [],
   "source": [
    "from duqtools.io import fetch_ids_data\n",
    "import numpy as np\n",
    "\n",
    "db = fetch_ids_data(shot=94875, run=250, user_name='g2ssmee', db_name='jet')\n",
    "# db = fetch_ids_data(shot = 94875, run = 1, user_name = 'g2aho', db_name = 'jet')\n",
    "db.open()\n"
   ]
  },
  {
   "cell_type": "code",
   "execution_count": null,
   "metadata": {},
   "outputs": [],
   "source": [
    "ids_list = [\n",
    "    'summary',\n",
    "    'equilibrium',\n",
    "    'core_profiles',\n",
    "    'core_sources',\n",
    "    'core_transport'\n",
    "]\n",
    "\n",
    "ids = db.get('core_profiles')"
   ]
  },
  {
   "cell_type": "code",
   "execution_count": null,
   "metadata": {},
   "outputs": [],
   "source": [
    "import matplotlib.pyplot as plt\n",
    "\n",
    "colors = plt.cm.viridis(np.linspace(0, 1, len(ids.time)))\n",
    "\n",
    "for idx, timestamp in enumerate(ids.time):\n",
    "    x = ids.profiles_1d[idx].grid.rho_tor_norm\n",
    "    y = ids.profiles_1d[idx].q\n",
    "\n",
    "    plt.plot(x, y, label=timestamp, color=colors[idx])\n",
    "\n",
    "plt.title(f'q')\n"
   ]
  },
  {
   "cell_type": "code",
   "execution_count": null,
   "metadata": {},
   "outputs": [],
   "source": [
    "db.get('core_profiles')"
   ]
  },
  {
   "cell_type": "code",
   "execution_count": null,
   "metadata": {},
   "outputs": [],
   "source": [
    "e = _"
   ]
  },
  {
   "cell_type": "code",
   "execution_count": null,
   "metadata": {},
   "outputs": [],
   "source": [
    "123"
   ]
  },
  {
   "cell_type": "code",
   "execution_count": null,
   "metadata": {},
   "outputs": [],
   "source": [
    "dir(e)"
   ]
  },
  {
   "cell_type": "code",
   "execution_count": null,
   "metadata": {},
   "outputs": [],
   "source": []
  }
 ],
 "metadata": {
  "interpreter": {
   "hash": "f15b8d6a5280890f42d3409331d4d2590e17193deabef7990d91a64fccc79d3d"
  },
  "kernelspec": {
   "display_name": "Python 3.7.10 ('env': venv)",
   "language": "python",
   "name": "python3"
  },
  "language_info": {
   "codemirror_mode": {
    "name": "ipython",
    "version": 3
   },
   "file_extension": ".py",
   "mimetype": "text/x-python",
   "name": "python",
   "nbconvert_exporter": "python",
   "pygments_lexer": "ipython3",
   "version": "3.7.10"
  }
 },
 "nbformat": 4,
 "nbformat_minor": 2
}
